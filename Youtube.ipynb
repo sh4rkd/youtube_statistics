{
 "cells": [
  {
   "cell_type": "markdown",
   "id": "222eecbd",
   "metadata": {},
   "source": [
    "![cover_images](https://camo.githubusercontent.com/3492e111812ac08200d4acd9a0dce36ff18e22be558865d26aae570f4348996c/68747470733a2f2f6a6f736570686d75636972616578636c7573697665732e636f6d2f77702d636f6e74656e742f75706c6f6164732f323031392f30382f596f75547562652d446174612d4150492d4f766572766965772e6a7067)"
   ]
  },
  {
   "cell_type": "code",
   "execution_count": 2,
   "id": "49cdf648",
   "metadata": {},
   "outputs": [],
   "source": [
    "import pandas as pd\n",
    "import time\n",
    "import requests\n",
    "from bs4 import BeautifulSoup\n",
    "import json\n",
    "import random\n",
    "import time\n",
    "from datetime import datetime\n",
    "import datetime\n",
    "import os\n",
    "import numpy as np \n",
    "from millify import millify,prettify\n",
    "from tqdm import tqdm\n",
    "\n",
    "import cred"
   ]
  },
  {
   "cell_type": "code",
   "execution_count": 3,
   "id": "8d50c6af",
   "metadata": {},
   "outputs": [],
   "source": [
    "DEVELOPER_KEY = cred.API_KEY"
   ]
  },
  {
   "cell_type": "markdown",
   "id": "deadd212",
   "metadata": {},
   "source": [
    "# Youtube Channel Stats\n",
    "\n",
    "[youtube_url](https://developers.google.com/youtube/v3/docs/channels?hl=es)"
   ]
  },
  {
   "cell_type": "code",
   "execution_count": 5,
   "id": "fee64143",
   "metadata": {},
   "outputs": [],
   "source": [
    "url = \"https://www.youtube.com/channel/UCgRr2pZaGeaZVN6LfbvQk9w\""
   ]
  },
  {
   "cell_type": "code",
   "execution_count": 6,
   "id": "188fcb24",
   "metadata": {},
   "outputs": [
    {
     "name": "stdout",
     "output_type": "stream",
     "text": [
      "UCgRr2pZaGeaZVN6LfbvQk9w\n"
     ]
    }
   ],
   "source": [
    "import re\n",
    "regex = r\"([A-Z]\\w+)\"\n",
    "match = re.search(regex, url)\n",
    "if match:\n",
    "    CHANNEL_ID = match.group(1)\n",
    "    print(CHANNEL_ID)"
   ]
  },
  {
   "cell_type": "code",
   "execution_count": 9,
   "id": "365b0077",
   "metadata": {},
   "outputs": [
    {
     "data": {
      "text/plain": [
       "{'kind': 'youtube#channelListResponse',\n",
       " 'etag': 'FjHkZ6BE2IxCXQtNKDbcZj4H8U8',\n",
       " 'pageInfo': {'totalResults': 1, 'resultsPerPage': 5},\n",
       " 'items': [{'kind': 'youtube#channel',\n",
       "   'etag': '3FWsAFlvjy_OMFYAfwXrjFTutps',\n",
       "   'id': 'UCgRr2pZaGeaZVN6LfbvQk9w',\n",
       "   'statistics': {'viewCount': '2723945296',\n",
       "    'subscriberCount': '10600000',\n",
       "    'hiddenSubscriberCount': False,\n",
       "    'videoCount': '1402'}}]}"
      ]
     },
     "execution_count": 9,
     "metadata": {},
     "output_type": "execute_result"
    }
   ],
   "source": [
    "url_channel_stats = f'https://youtube.googleapis.com/youtube/v3/channels?part=statistics&id={CHANNEL_ID}&key={DEVELOPER_KEY}'\n",
    "channel_stats = requests.get(url_channel_stats).json()\n",
    "channel_stats"
   ]
  },
  {
   "cell_type": "code",
   "execution_count": 10,
   "id": "f3d291ad",
   "metadata": {},
   "outputs": [
    {
     "data": {
      "text/plain": [
       "{'Created_at': '2023-03-25',\n",
       " 'Total_Views': 2723945296,\n",
       " 'Suscribers': 10600000,\n",
       " 'Video_count': 1402}"
      ]
     },
     "execution_count": 10,
     "metadata": {},
     "output_type": "execute_result"
    }
   ],
   "source": [
    "channel_stats = channel_stats['items'][0]['statistics']\n",
    "date = pd.to_datetime('today').strftime(\"%Y-%m-%d\")\n",
    "\n",
    "data_channel = {\n",
    "    \n",
    "    'Created_at':date,\n",
    "    'Total_Views':int(float(channel_stats['viewCount'])),\n",
    "    'Suscribers':int(float(channel_stats['subscriberCount'])),\n",
    "    'Video_count':int(float(channel_stats['videoCount'])),\n",
    "    \n",
    "}\n",
    "\n",
    "data_channel"
   ]
  },
  {
   "cell_type": "code",
   "execution_count": 11,
   "id": "8e2082ff",
   "metadata": {},
   "outputs": [
    {
     "data": {
      "text/plain": [
       "10600000"
      ]
     },
     "execution_count": 11,
     "metadata": {},
     "output_type": "execute_result"
    }
   ],
   "source": [
    "data_channel['Suscribers']"
   ]
  },
  {
   "cell_type": "markdown",
   "id": "1dfa2fd7",
   "metadata": {},
   "source": [
    "# Funtions "
   ]
  },
  {
   "cell_type": "code",
   "execution_count": 12,
   "id": "b4f03986",
   "metadata": {},
   "outputs": [],
   "source": [
    "def get_stats(api_key,channel_id):\n",
    "    \n",
    "    url_channel_stats = f'https://youtube.googleapis.com/youtube/v3/channels?part=statistics&id={channel_id}&key={api_key}'\n",
    "    channel_stats = requests.get(url_channel_stats).json()\n",
    "    \n",
    "    \n",
    "    channel_stats = channel_stats['items'][0]['statistics']\n",
    "    date = pd.to_datetime('today').strftime(\"%Y-%m-%d\")\n",
    "\n",
    "    data_channel = {\n",
    "\n",
    "        'Created_at':date,\n",
    "        'Total_Views':int(float(channel_stats['viewCount'])),\n",
    "        'Suscribers':int(float(channel_stats['subscriberCount'])),\n",
    "        'Video_count':int(float(channel_stats['videoCount'])),\n",
    "\n",
    "    }\n",
    "    \n",
    "    return data_channel"
   ]
  },
  {
   "cell_type": "code",
   "execution_count": 13,
   "id": "ad42da31",
   "metadata": {},
   "outputs": [
    {
     "data": {
      "text/plain": [
       "{'Created_at': '2023-03-25',\n",
       " 'Total_Views': 2723945296,\n",
       " 'Suscribers': 10600000,\n",
       " 'Video_count': 1402}"
      ]
     },
     "execution_count": 13,
     "metadata": {},
     "output_type": "execute_result"
    }
   ],
   "source": [
    "get_stats(DEVELOPER_KEY,CHANNEL_ID)"
   ]
  },
  {
   "cell_type": "markdown",
   "id": "097f9123",
   "metadata": {},
   "source": [
    "# Channels to analize"
   ]
  },
  {
   "cell_type": "code",
   "execution_count": 14,
   "id": "29d2cf21",
   "metadata": {},
   "outputs": [],
   "source": [
    "channels_name  =  ['Dalas_Review','Dalas_SIN_FILTROS','JacoboWong','Adrián_Marcelo']\n",
    "channels_id  =  ['UCgRr2pZaGeaZVN6LfbvQk9w','UCUqvWUXerEGX33z3wmOnPrw','UCLivbHCGmGtDWFNqmSHc3CA','UCZws69iVZXGSIY4D-WulZ7g']"
   ]
  },
  {
   "cell_type": "code",
   "execution_count": 26,
   "id": "b79a68b2",
   "metadata": {},
   "outputs": [],
   "source": [
    "channels = {\n",
    "    'Channel_name':channels_name,\n",
    "    'Channel_id':channels_id}\n",
    "\n",
    "df_channels = pd.DataFrame(channels)"
   ]
  },
  {
   "cell_type": "code",
   "execution_count": 27,
   "id": "41ea5b20",
   "metadata": {},
   "outputs": [
    {
     "data": {
      "text/html": [
       "<div>\n",
       "<style scoped>\n",
       "    .dataframe tbody tr th:only-of-type {\n",
       "        vertical-align: middle;\n",
       "    }\n",
       "\n",
       "    .dataframe tbody tr th {\n",
       "        vertical-align: top;\n",
       "    }\n",
       "\n",
       "    .dataframe thead th {\n",
       "        text-align: right;\n",
       "    }\n",
       "</style>\n",
       "<table border=\"1\" class=\"dataframe\">\n",
       "  <thead>\n",
       "    <tr style=\"text-align: right;\">\n",
       "      <th></th>\n",
       "      <th>Channel_name</th>\n",
       "      <th>Channel_id</th>\n",
       "    </tr>\n",
       "  </thead>\n",
       "  <tbody>\n",
       "    <tr>\n",
       "      <th>0</th>\n",
       "      <td>Dalas_Review</td>\n",
       "      <td>UCgRr2pZaGeaZVN6LfbvQk9w</td>\n",
       "    </tr>\n",
       "    <tr>\n",
       "      <th>1</th>\n",
       "      <td>Dalas_SIN_FILTROS</td>\n",
       "      <td>UCUqvWUXerEGX33z3wmOnPrw</td>\n",
       "    </tr>\n",
       "    <tr>\n",
       "      <th>2</th>\n",
       "      <td>JacoboWong</td>\n",
       "      <td>UCLivbHCGmGtDWFNqmSHc3CA</td>\n",
       "    </tr>\n",
       "    <tr>\n",
       "      <th>3</th>\n",
       "      <td>Adrián_Marcelo</td>\n",
       "      <td>UCZws69iVZXGSIY4D-WulZ7g</td>\n",
       "    </tr>\n",
       "  </tbody>\n",
       "</table>\n",
       "</div>"
      ],
      "text/plain": [
       "        Channel_name                Channel_id\n",
       "0       Dalas_Review  UCgRr2pZaGeaZVN6LfbvQk9w\n",
       "1  Dalas_SIN_FILTROS  UCUqvWUXerEGX33z3wmOnPrw\n",
       "2         JacoboWong  UCLivbHCGmGtDWFNqmSHc3CA\n",
       "3     Adrián_Marcelo  UCZws69iVZXGSIY4D-WulZ7g"
      ]
     },
     "execution_count": 27,
     "metadata": {},
     "output_type": "execute_result"
    }
   ],
   "source": [
    "df_channels"
   ]
  },
  {
   "cell_type": "code",
   "execution_count": 17,
   "id": "20cb41c6",
   "metadata": {},
   "outputs": [
    {
     "data": {
      "text/plain": [
       "{'Created_at': '2023-03-25',\n",
       " 'Total_Views': 261130986,\n",
       " 'Suscribers': 1670000,\n",
       " 'Video_count': 354}"
      ]
     },
     "execution_count": 17,
     "metadata": {},
     "output_type": "execute_result"
    }
   ],
   "source": [
    "get_stats(DEVELOPER_KEY,df_channels['Channel_id'][1])"
   ]
  },
  {
   "cell_type": "code",
   "execution_count": 19,
   "id": "ca60f987",
   "metadata": {},
   "outputs": [],
   "source": [
    "def channel_stats(df,api_key):\n",
    "    \n",
    "    date = []\n",
    "    views = []\n",
    "    suscriber = []\n",
    "    video_count = []\n",
    "    channel_name = []\n",
    "    \n",
    "    tiempo = [1,2.5,3,2]\n",
    "    \n",
    "    \n",
    "    for i in tqdm(range(len(df)),colour = 'green'):\n",
    "        \n",
    "        stats_temp = get_stats(DEVELOPER_KEY,df_channels['Channel_id'][i])\n",
    "        \n",
    "        date.append(stats_temp['Created_at'])\n",
    "        views.append(stats_temp['Total_Views'])\n",
    "        suscriber.append(stats_temp['Suscribers'])\n",
    "        video_count.append(stats_temp['Video_count'])\n",
    "        channel_name.append(df['Channel_name'][i])\n",
    "        \n",
    "        time.sleep(random.choice(tiempo))\n",
    "    \n",
    "    data = {\n",
    "        \n",
    "        'Channel_name':channel_name,\n",
    "        'Suscribers':suscriber,\n",
    "        'Video_Count':video_count,\n",
    "        'Total_Views':views,\n",
    "        'created_at':date,\n",
    "        \n",
    "    }\n",
    "    \n",
    "    df_channels_final = pd.DataFrame(data)\n",
    "    \n",
    "    return df_channels_final     "
   ]
  },
  {
   "cell_type": "code",
   "execution_count": 20,
   "id": "cc355470",
   "metadata": {},
   "outputs": [
    {
     "name": "stderr",
     "output_type": "stream",
     "text": [
      "100%|\u001b[32m██████████\u001b[0m| 4/4 [00:07<00:00,  1.92s/it]\n"
     ]
    },
    {
     "data": {
      "text/html": [
       "<div>\n",
       "<style scoped>\n",
       "    .dataframe tbody tr th:only-of-type {\n",
       "        vertical-align: middle;\n",
       "    }\n",
       "\n",
       "    .dataframe tbody tr th {\n",
       "        vertical-align: top;\n",
       "    }\n",
       "\n",
       "    .dataframe thead th {\n",
       "        text-align: right;\n",
       "    }\n",
       "</style>\n",
       "<table border=\"1\" class=\"dataframe\">\n",
       "  <thead>\n",
       "    <tr style=\"text-align: right;\">\n",
       "      <th></th>\n",
       "      <th>Channel_name</th>\n",
       "      <th>Suscribers</th>\n",
       "      <th>Video_Count</th>\n",
       "      <th>Total_Views</th>\n",
       "      <th>created_at</th>\n",
       "    </tr>\n",
       "  </thead>\n",
       "  <tbody>\n",
       "    <tr>\n",
       "      <th>0</th>\n",
       "      <td>Dalas_Review</td>\n",
       "      <td>10600000</td>\n",
       "      <td>1402</td>\n",
       "      <td>2723945296</td>\n",
       "      <td>2023-03-25</td>\n",
       "    </tr>\n",
       "    <tr>\n",
       "      <th>1</th>\n",
       "      <td>Dalas_SIN_FILTROS</td>\n",
       "      <td>1670000</td>\n",
       "      <td>354</td>\n",
       "      <td>261130986</td>\n",
       "      <td>2023-03-25</td>\n",
       "    </tr>\n",
       "    <tr>\n",
       "      <th>2</th>\n",
       "      <td>JacoboWong</td>\n",
       "      <td>1350000</td>\n",
       "      <td>1667</td>\n",
       "      <td>321192370</td>\n",
       "      <td>2023-03-25</td>\n",
       "    </tr>\n",
       "    <tr>\n",
       "      <th>3</th>\n",
       "      <td>Adrián_Marcelo</td>\n",
       "      <td>1930000</td>\n",
       "      <td>610</td>\n",
       "      <td>427641234</td>\n",
       "      <td>2023-03-25</td>\n",
       "    </tr>\n",
       "  </tbody>\n",
       "</table>\n",
       "</div>"
      ],
      "text/plain": [
       "        Channel_name  Suscribers  Video_Count  Total_Views  created_at\n",
       "0       Dalas_Review    10600000         1402   2723945296  2023-03-25\n",
       "1  Dalas_SIN_FILTROS     1670000          354    261130986  2023-03-25\n",
       "2         JacoboWong     1350000         1667    321192370  2023-03-25\n",
       "3     Adrián_Marcelo     1930000          610    427641234  2023-03-25"
      ]
     },
     "execution_count": 20,
     "metadata": {},
     "output_type": "execute_result"
    }
   ],
   "source": [
    "channel_stats(df_channels,DEVELOPER_KEY)"
   ]
  },
  {
   "cell_type": "code",
   "execution_count": 22,
   "id": "d8b8b687",
   "metadata": {},
   "outputs": [
    {
     "data": {
      "text/plain": [
       "<function __main__.channel_stats(df, api_key)>"
      ]
     },
     "execution_count": 22,
     "metadata": {},
     "output_type": "execute_result"
    }
   ],
   "source": [
    "channel_stats"
   ]
  },
  {
   "cell_type": "code",
   "execution_count": 21,
   "id": "4c6b1e26",
   "metadata": {},
   "outputs": [
    {
     "ename": "TypeError",
     "evalue": "'function' object is not subscriptable",
     "output_type": "error",
     "traceback": [
      "\u001b[1;31m---------------------------------------------------------------------------\u001b[0m",
      "\u001b[1;31mTypeError\u001b[0m                                 Traceback (most recent call last)",
      "Cell \u001b[1;32mIn[21], line 1\u001b[0m\n\u001b[1;32m----> 1\u001b[0m millify(channel_stats[\u001b[39m'\u001b[39;49m\u001b[39msubscriberCount\u001b[39;49m\u001b[39m'\u001b[39;49m],\u001b[39m2\u001b[39m)\n",
      "\u001b[1;31mTypeError\u001b[0m: 'function' object is not subscriptable"
     ]
    }
   ],
   "source": [
    "millify(channel_stats['subscriberCount'],2)"
   ]
  },
  {
   "cell_type": "code",
   "execution_count": 16,
   "id": "eec62817",
   "metadata": {},
   "outputs": [
    {
     "data": {
      "text/plain": [
       "'3.07k'"
      ]
     },
     "execution_count": 16,
     "metadata": {},
     "output_type": "execute_result"
    }
   ],
   "source": [
    "millify(channel_stats['videoCount'],2)"
   ]
  },
  {
   "cell_type": "code",
   "execution_count": 17,
   "id": "a2021efc",
   "metadata": {},
   "outputs": [
    {
     "data": {
      "text/plain": [
       "'97.97M'"
      ]
     },
     "execution_count": 17,
     "metadata": {},
     "output_type": "execute_result"
    }
   ],
   "source": [
    "millify(channel_stats['viewCount'],2)"
   ]
  },
  {
   "cell_type": "code",
   "execution_count": 28,
   "id": "5641e89a",
   "metadata": {},
   "outputs": [],
   "source": [
    "df_channels = df_channels.to_csv('channels_to_analize.csv',index = False)"
   ]
  }
 ],
 "metadata": {
  "kernelspec": {
   "display_name": "Python 3",
   "language": "python",
   "name": "python3"
  },
  "language_info": {
   "codemirror_mode": {
    "name": "ipython",
    "version": 3
   },
   "file_extension": ".py",
   "mimetype": "text/x-python",
   "name": "python",
   "nbconvert_exporter": "python",
   "pygments_lexer": "ipython3",
   "version": "3.10.5"
  }
 },
 "nbformat": 4,
 "nbformat_minor": 5
}
